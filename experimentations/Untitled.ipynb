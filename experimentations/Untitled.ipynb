{
 "cells": [
  {
   "cell_type": "code",
   "execution_count": 1,
   "metadata": {},
   "outputs": [],
   "source": [
    "import pandas as pd\n",
    "import numpy as np\n",
    "from sklearn.ensemble import RandomForestRegressor"
   ]
  },
  {
   "cell_type": "code",
   "execution_count": 2,
   "metadata": {},
   "outputs": [],
   "source": [
    "projection_df = pd.read_csv('../projection_report_all.csv')"
   ]
  },
  {
   "cell_type": "code",
   "execution_count": 3,
   "metadata": {},
   "outputs": [
    {
     "data": {
      "text/plain": [
       "cout_operation                         float64\n",
       "off_market                                bool\n",
       "rendement_brut                         float64\n",
       "apport_banque_taux                     float64\n",
       "taux_interet                           float64\n",
       "annees_emprunt                           int64\n",
       "loyer_mensuel                          float64\n",
       "ecart_au_loyer_moyen                   float64\n",
       "cash_flow_annuel                       float64\n",
       "cash_flow_annuel_apport_total_inclu    float64\n",
       "doit_payer_impot                          bool\n",
       "loyer_annuel_percu                     float64\n",
       "charges_annuel                         float64\n",
       "taux_occupation                        float64\n",
       "apport_total                           float64\n",
       "ecart_prix_m2_prix_moyen_avant         float64\n",
       "ecart_prix_m2_prix_moyen_apres         float64\n",
       "prix_m2_avant                          float64\n",
       "prix_m2_apres                          float64\n",
       "ecart_aux_charges_copro_moyen          float64\n",
       "dtype: object"
      ]
     },
     "execution_count": 3,
     "metadata": {},
     "output_type": "execute_result"
    }
   ],
   "source": [
    "projection_df.dtypes"
   ]
  },
  {
   "cell_type": "code",
   "execution_count": 4,
   "metadata": {},
   "outputs": [],
   "source": [
    "cols_to_filter_out = ['cash_flow_annuel_apport_total_inclu', 'doit_payer_impot', 'rendement_brut',\n",
    "                     'loyer_annuel_percu', 'loyer_mensuel', ]"
   ]
  },
  {
   "cell_type": "code",
   "execution_count": 5,
   "metadata": {},
   "outputs": [],
   "source": [
    "projection_df_filtered = projection_df.drop(cols_to_filter_out, axis=1)"
   ]
  },
  {
   "cell_type": "code",
   "execution_count": 6,
   "metadata": {},
   "outputs": [],
   "source": [
    "labels = projection_df_filtered['cash_flow_annuel'].values\n",
    "features = projection_df_filtered.drop(['cash_flow_annuel'], axis=1).values"
   ]
  },
  {
   "cell_type": "code",
   "execution_count": null,
   "metadata": {},
   "outputs": [],
   "source": [
    "rdmf = RandomForestRegressor()\n",
    "rdmf.fit(features, labels)"
   ]
  },
  {
   "cell_type": "code",
   "execution_count": null,
   "metadata": {},
   "outputs": [],
   "source": [
    "feature_importance_score = rdmf.feature_importances_\n",
    "feature_names = projection_df_filtered.drop(['cash_flow_annuel'], axis=1).columns.values"
   ]
  },
  {
   "cell_type": "code",
   "execution_count": null,
   "metadata": {},
   "outputs": [],
   "source": [
    "zipped = zip(feature_names,feature_importance_score)\n",
    "feature_importances = sorted(zipped, key = lambda t: t[1], reverse=True)"
   ]
  },
  {
   "cell_type": "code",
   "execution_count": null,
   "metadata": {},
   "outputs": [],
   "source": [
    "feature_importances"
   ]
  },
  {
   "cell_type": "code",
   "execution_count": null,
   "metadata": {},
   "outputs": [],
   "source": []
  }
 ],
 "metadata": {
  "kernelspec": {
   "display_name": "Python 3",
   "language": "python",
   "name": "python3"
  },
  "language_info": {
   "codemirror_mode": {
    "name": "ipython",
    "version": 3
   },
   "file_extension": ".py",
   "mimetype": "text/x-python",
   "name": "python",
   "nbconvert_exporter": "python",
   "pygments_lexer": "ipython3",
   "version": "3.7.7"
  }
 },
 "nbformat": 4,
 "nbformat_minor": 4
}
